{
 "cells": [
  {
   "cell_type": "code",
   "execution_count": 18,
   "id": "eed96ec9",
   "metadata": {},
   "outputs": [],
   "source": [
    "import pandas as pd"
   ]
  },
  {
   "cell_type": "code",
   "execution_count": 19,
   "id": "216709e0",
   "metadata": {},
   "outputs": [],
   "source": [
    "stock_names = ['AAPL', 'ADBE', 'AMZN','BTC-USD', 'FB', 'GCF', 'IRX','MSFT', 'NVDA', 'QCOM','TSLA','TXN']\n",
    "datasets_path = f\"../dataset/historical_data/\"\n",
    "datasets = []"
   ]
  },
  {
   "cell_type": "code",
   "execution_count": 20,
   "id": "278c4047",
   "metadata": {},
   "outputs": [
    {
     "name": "stdout",
     "output_type": "stream",
     "text": [
      "Data for AAPL loaded successfully.\n",
      "Data for ADBE loaded successfully.\n",
      "Data for AMZN loaded successfully.\n",
      "Data for BTC-USD loaded successfully.\n",
      "Data for FB loaded successfully.\n",
      "Data for GCF loaded successfully.\n",
      "Data for IRX loaded successfully.\n",
      "Data for MSFT loaded successfully.\n",
      "Data for NVDA loaded successfully.\n",
      "Data for QCOM loaded successfully.\n",
      "Data for TSLA loaded successfully.\n",
      "Data for TXN loaded successfully.\n"
     ]
    }
   ],
   "source": [
    "for stock in stock_names:\n",
    "    file_path = f\"{datasets_path}{stock}.csv\" \n",
    "    try:\n",
    "        data = pd.read_csv(file_path)\n",
    "        datasets.append(data)\n",
    "        print(f\"Data for {stock} loaded successfully.\")  \n",
    "    except FileNotFoundError:\n",
    "        print(f\"File not found for stock: {stock} at path: {file_path}\")"
   ]
  },
  {
   "cell_type": "code",
   "execution_count": 30,
   "id": "fbed7ff2",
   "metadata": {},
   "outputs": [],
   "source": [
    "stock_name_you_want = 'FB'\n",
    "if stock_name_you_want in stock_names:\n",
    "    index = stock_names.index(stock_name_you_want)\n",
    "    datasets[stock_names.index(stock_name_you_want)]\n",
    "else:\n",
    "        print(f\"Stock {stock_name_you_want} is not found!\")"
   ]
  },
  {
   "cell_type": "code",
   "execution_count": null,
   "id": "1c1ceacc",
   "metadata": {},
   "outputs": [],
   "source": []
  }
 ],
 "metadata": {
  "kernelspec": {
   "display_name": "Python 3.11",
   "language": "python",
   "name": "python3.11"
  },
  "language_info": {
   "codemirror_mode": {
    "name": "ipython",
    "version": 3
   },
   "file_extension": ".py",
   "mimetype": "text/x-python",
   "name": "python",
   "nbconvert_exporter": "python",
   "pygments_lexer": "ipython3",
   "version": "3.11.10"
  }
 },
 "nbformat": 4,
 "nbformat_minor": 5
}
