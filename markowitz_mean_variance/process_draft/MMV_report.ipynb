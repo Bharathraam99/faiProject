{
 "cells": [
  {
   "cell_type": "markdown",
   "id": "ab040686",
   "metadata": {},
   "source": [
    "## Markowitz Mean-Variance Optimization Model"
   ]
  },
  {
   "cell_type": "markdown",
   "id": "5c468522",
   "metadata": {},
   "source": [
    "### Objective"
   ]
  },
  {
   "cell_type": "markdown",
   "id": "ba294ee3",
   "metadata": {},
   "source": [
    "Investors aim to maximize returns (the expected return of the portfolio) for a given level of risk or minimize risk (measured by the variance or standard deviation of the portfolio) for a given level of return. \n"
   ]
  },
  {
   "cell_type": "markdown",
   "id": "084a9917",
   "metadata": {},
   "source": [
    "### Explanation"
   ]
  },
  {
   "cell_type": "markdown",
   "id": "7f4153cf",
   "metadata": {},
   "source": [
    "By allocating assets appropriately, investors can achieve the optimal risk-return combination, known as the \"Efficient Frontier.\" Every portfolio on this frontier is optimal because, at the same risk level, it offers the highest expected return, or at the same return level, it presents the lowest risk.\n"
   ]
  },
  {
   "cell_type": "markdown",
   "id": "8a1c9ce9",
   "metadata": {},
   "source": [
    "### Formulas"
   ]
  },
  {
   "cell_type": "markdown",
   "id": "35410a4d",
   "metadata": {},
   "source": [
    "#### Maximization of Return Objective"
   ]
  },
  {
   "cell_type": "markdown",
   "id": "eb6f0fe3",
   "metadata": {},
   "source": [
    "https://docs.google.com/document/d/1afoVDFLHlAzisqcr6FwGn-U0gV2xMMS0ls08Sh4pwfI/edit?tab=t.0"
   ]
  },
  {
   "cell_type": "code",
   "execution_count": null,
   "id": "aef813da",
   "metadata": {},
   "outputs": [],
   "source": []
  }
 ],
 "metadata": {
  "kernelspec": {
   "display_name": "Python 3.11",
   "language": "python",
   "name": "python3.11"
  },
  "language_info": {
   "codemirror_mode": {
    "name": "ipython",
    "version": 3
   },
   "file_extension": ".py",
   "mimetype": "text/x-python",
   "name": "python",
   "nbconvert_exporter": "python",
   "pygments_lexer": "ipython3",
   "version": "3.11.10"
  }
 },
 "nbformat": 4,
 "nbformat_minor": 5
}
