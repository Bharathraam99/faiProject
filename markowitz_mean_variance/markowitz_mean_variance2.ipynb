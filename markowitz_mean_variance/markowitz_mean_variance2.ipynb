{
 "cells": [
  {
   "cell_type": "code",
   "execution_count": 8,
   "id": "86d17688",
   "metadata": {},
   "outputs": [
    {
     "name": "stdout",
     "output_type": "stream",
     "text": [
      "Collecting PyPortfolioOpt\n",
      "  Downloading pyportfolioopt-1.5.5-py3-none-any.whl.metadata (23 kB)\n",
      "Collecting cvxpy<2.0.0,>=1.1.19 (from PyPortfolioOpt)\n",
      "  Downloading cvxpy-1.6.0-cp311-cp311-macosx_10_9_universal2.whl.metadata (9.2 kB)\n",
      "Collecting numpy<2.0.0,>=1.22.4 (from PyPortfolioOpt)\n",
      "  Downloading numpy-1.26.4-cp311-cp311-macosx_11_0_arm64.whl.metadata (114 kB)\n",
      "Requirement already satisfied: pandas>=0.19 in /opt/homebrew/lib/python3.11/site-packages (from PyPortfolioOpt) (2.2.3)\n",
      "Requirement already satisfied: scipy<2.0,>=1.3 in /opt/homebrew/lib/python3.11/site-packages (from PyPortfolioOpt) (1.14.1)\n",
      "Collecting osqp>=0.6.2 (from cvxpy<2.0.0,>=1.1.19->PyPortfolioOpt)\n",
      "  Downloading osqp-0.6.7.post3-cp311-cp311-macosx_11_0_arm64.whl.metadata (1.9 kB)\n",
      "Collecting clarabel>=0.5.0 (from cvxpy<2.0.0,>=1.1.19->PyPortfolioOpt)\n",
      "  Downloading clarabel-0.9.0-cp37-abi3-macosx_10_12_x86_64.macosx_11_0_arm64.macosx_10_12_universal2.whl.metadata (4.8 kB)\n",
      "Collecting scs>=3.2.4.post1 (from cvxpy<2.0.0,>=1.1.19->PyPortfolioOpt)\n",
      "  Downloading scs-3.2.7-cp311-cp311-macosx_11_0_arm64.whl.metadata (2.1 kB)\n",
      "Requirement already satisfied: python-dateutil>=2.8.2 in /opt/homebrew/lib/python3.11/site-packages (from pandas>=0.19->PyPortfolioOpt) (2.9.0.post0)\n",
      "Requirement already satisfied: pytz>=2020.1 in /opt/homebrew/lib/python3.11/site-packages (from pandas>=0.19->PyPortfolioOpt) (2024.2)\n",
      "Requirement already satisfied: tzdata>=2022.7 in /opt/homebrew/lib/python3.11/site-packages (from pandas>=0.19->PyPortfolioOpt) (2024.2)\n",
      "Collecting qdldl (from osqp>=0.6.2->cvxpy<2.0.0,>=1.1.19->PyPortfolioOpt)\n",
      "  Downloading qdldl-0.1.7.post4-cp311-cp311-macosx_11_0_arm64.whl.metadata (1.7 kB)\n",
      "Requirement already satisfied: six>=1.5 in /opt/homebrew/lib/python3.11/site-packages (from python-dateutil>=2.8.2->pandas>=0.19->PyPortfolioOpt) (1.16.0)\n",
      "Downloading pyportfolioopt-1.5.5-py3-none-any.whl (61 kB)\n",
      "Downloading cvxpy-1.6.0-cp311-cp311-macosx_10_9_universal2.whl (1.5 MB)\n",
      "\u001b[2K   \u001b[90m━━━━━━━━━━━━━━━━━━━━━━━━━━━━━━━━━━━━━━━━\u001b[0m \u001b[32m1.5/1.5 MB\u001b[0m \u001b[31m21.6 MB/s\u001b[0m eta \u001b[36m0:00:00\u001b[0m\n",
      "\u001b[?25hDownloading numpy-1.26.4-cp311-cp311-macosx_11_0_arm64.whl (14.0 MB)\n",
      "\u001b[2K   \u001b[90m━━━━━━━━━━━━━━━━━━━━━━━━━━━━━━━━━━━━━━━━\u001b[0m \u001b[32m14.0/14.0 MB\u001b[0m \u001b[31m35.1 MB/s\u001b[0m eta \u001b[36m0:00:00\u001b[0m \u001b[36m0:00:01\u001b[0m\n",
      "\u001b[?25hDownloading clarabel-0.9.0-cp37-abi3-macosx_10_12_x86_64.macosx_11_0_arm64.macosx_10_12_universal2.whl (1.7 MB)\n",
      "\u001b[2K   \u001b[90m━━━━━━━━━━━━━━━━━━━━━━━━━━━━━━━━━━━━━━━━\u001b[0m \u001b[32m1.7/1.7 MB\u001b[0m \u001b[31m31.5 MB/s\u001b[0m eta \u001b[36m0:00:00\u001b[0m\n",
      "\u001b[?25hDownloading osqp-0.6.7.post3-cp311-cp311-macosx_11_0_arm64.whl (237 kB)\n",
      "Downloading scs-3.2.7-cp311-cp311-macosx_11_0_arm64.whl (93 kB)\n",
      "Downloading qdldl-0.1.7.post4-cp311-cp311-macosx_11_0_arm64.whl (99 kB)\n",
      "Installing collected packages: numpy, scs, qdldl, clarabel, osqp, cvxpy, PyPortfolioOpt\n",
      "  Attempting uninstall: numpy\n",
      "    Found existing installation: numpy 2.0.2\n",
      "    Uninstalling numpy-2.0.2:\n",
      "      Successfully uninstalled numpy-2.0.2\n",
      "Successfully installed PyPortfolioOpt-1.5.5 clarabel-0.9.0 cvxpy-1.6.0 numpy-1.26.4 osqp-0.6.7.post3 qdldl-0.1.7.post4 scs-3.2.7\n"
     ]
    }
   ],
   "source": [
    "import sys\n",
    "!{sys.executable} -m pip install PyPortfolioOpt"
   ]
  },
  {
   "cell_type": "code",
   "execution_count": 9,
   "id": "8def703f",
   "metadata": {},
   "outputs": [],
   "source": [
    "from pypfopt.efficient_frontier import EfficientFrontier\n",
    "from pypfopt import risk_models\n",
    "from pypfopt import expected_returns"
   ]
  },
  {
   "cell_type": "code",
   "execution_count": null,
   "id": "231e08b2",
   "metadata": {},
   "outputs": [],
   "source": []
  }
 ],
 "metadata": {
  "kernelspec": {
   "display_name": "Python 3.11",
   "language": "python",
   "name": "python3.11"
  },
  "language_info": {
   "codemirror_mode": {
    "name": "ipython",
    "version": 3
   },
   "file_extension": ".py",
   "mimetype": "text/x-python",
   "name": "python",
   "nbconvert_exporter": "python",
   "pygments_lexer": "ipython3",
   "version": "3.11.10"
  }
 },
 "nbformat": 4,
 "nbformat_minor": 5
}
