{
 "cells": [
  {
   "cell_type": "code",
   "execution_count": 5,
   "id": "58c6b0ac",
   "metadata": {},
   "outputs": [
    {
     "name": "stdout",
     "output_type": "stream",
     "text": [
      "Requirement already satisfied: scipy in /Users/shiyivic/opt/anaconda3/lib/python3.9/site-packages (1.9.1)\r\n",
      "Requirement already satisfied: numpy<1.25.0,>=1.18.5 in /Users/shiyivic/opt/anaconda3/lib/python3.9/site-packages (from scipy) (1.23.0)\r\n"
     ]
    }
   ],
   "source": [
    "!pip install scipy"
   ]
  },
  {
   "cell_type": "code",
   "execution_count": 6,
   "id": "89f5ca9b",
   "metadata": {},
   "outputs": [
    {
     "ename": "ModuleNotFoundError",
     "evalue": "No module named 'scipy'",
     "output_type": "error",
     "traceback": [
      "\u001b[0;31m---------------------------------------------------------------------------\u001b[0m",
      "\u001b[0;31mModuleNotFoundError\u001b[0m                       Traceback (most recent call last)",
      "Cell \u001b[0;32mIn[6], line 2\u001b[0m\n\u001b[1;32m      1\u001b[0m \u001b[38;5;28;01mimport\u001b[39;00m \u001b[38;5;21;01mnumpy\u001b[39;00m \u001b[38;5;28;01mas\u001b[39;00m \u001b[38;5;21;01mnp\u001b[39;00m\n\u001b[0;32m----> 2\u001b[0m \u001b[38;5;28;01mfrom\u001b[39;00m \u001b[38;5;21;01mscipy\u001b[39;00m\u001b[38;5;21;01m.\u001b[39;00m\u001b[38;5;21;01moptimize\u001b[39;00m \u001b[38;5;28;01mimport\u001b[39;00m minimize\n",
      "\u001b[0;31mModuleNotFoundError\u001b[0m: No module named 'scipy'"
     ]
    }
   ],
   "source": [
    "import numpy as np\n",
    "from scipy.optimize import minimize"
   ]
  },
  {
   "cell_type": "code",
   "execution_count": 2,
   "id": "2fb9c2fa",
   "metadata": {},
   "outputs": [],
   "source": [
    "def portfolio_variance(weights):\n",
    "            return np.dot(weights.T, np.dot(cov_matrix, weights))"
   ]
  },
  {
   "cell_type": "code",
   "execution_count": null,
   "id": "aa811812",
   "metadata": {},
   "outputs": [],
   "source": [
    "def neg_sharpe_ratio(weights):\n",
    "            portfolio_return = np.dot(weights, expected_returns)\n",
    "            portfolio_volatility = np.sqrt(np.dot(weights.T, np.dot(cov_matrix, weights)))\n",
    "            return -portfolio_return / portfolio_volatility"
   ]
  },
  {
   "cell_type": "code",
   "execution_count": null,
   "id": "fa4b2b4c",
   "metadata": {},
   "outputs": [],
   "source": [
    "def markowitz_optimization(expected_returns, cov_matrix, target_return=None):\n",
    "    num_assets = len(expected_returns)\n",
    "    init_guess = np.ones(num_assets) / num_assets\n",
    "\n",
    "    # 约束条件：权重和为1\n",
    "    weights_constraint = {'type': 'eq', 'fun': lambda weights: np.sum(weights) - 1}\n",
    "\n",
    "    # 如果指定了目标收益率，则进行最小化风险的优化\n",
    "    if target_return:\n",
    "        # 约束条件：组合的预期收益率大于或等于目标收益率\n",
    "        return_constraint = {\n",
    "            'type': 'eq',\n",
    "            'fun': lambda weights: np.dot(weights, expected_returns) - target_return\n",
    "        }\n",
    "\n",
    "        # 优化目标：最小化组合的方差（风险）\n",
    "        def portfolio_variance(weights):\n",
    "            return np.dot(weights.T, np.dot(cov_matrix, weights))\n",
    "        \n",
    "        constraints = [weights_constraint, return_constraint]\n",
    "        result = minimize(portfolio_variance, init_guess, constraints=constraints, bounds=[(0, 1)] * num_assets)\n",
    "    \n",
    "    # 否则，最大化夏普比率（最大化风险调整后的收益）\n",
    "    else:\n",
    "        # 夏普比率的目标函数（负值以便最小化）\n",
    "        def neg_sharpe_ratio(weights):\n",
    "            portfolio_return = np.dot(weights, expected_returns)\n",
    "            portfolio_volatility = np.sqrt(np.dot(weights.T, np.dot(cov_matrix, weights)))\n",
    "            return -portfolio_return / portfolio_volatility\n",
    "        \n",
    "        constraints = [weights_constraint]\n",
    "        result = minimize(neg_sharpe_ratio, init_guess, constraints=constraints, bounds=[(0, 1)] * num_assets)\n",
    "    \n",
    "    # 最优权重\n",
    "    weights = result.x\n",
    "    return weights\n"
   ]
  }
 ],
 "metadata": {
  "kernelspec": {
   "display_name": "Python 3.11",
   "language": "python",
   "name": "python3.11"
  },
  "language_info": {
   "codemirror_mode": {
    "name": "ipython",
    "version": 3
   },
   "file_extension": ".py",
   "mimetype": "text/x-python",
   "name": "python",
   "nbconvert_exporter": "python",
   "pygments_lexer": "ipython3",
   "version": "3.11.10"
  }
 },
 "nbformat": 4,
 "nbformat_minor": 5
}
