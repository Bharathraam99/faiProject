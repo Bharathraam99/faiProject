{
 "cells": [
  {
   "cell_type": "code",
   "execution_count": 9,
   "id": "21efde91",
   "metadata": {},
   "outputs": [],
   "source": [
    "import sys"
   ]
  },
  {
   "cell_type": "code",
   "execution_count": 10,
   "id": "c02eb1ae",
   "metadata": {},
   "outputs": [
    {
     "name": "stdout",
     "output_type": "stream",
     "text": [
      "Requirement already satisfied: scipy in /opt/homebrew/lib/python3.11/site-packages (1.14.1)\n",
      "Requirement already satisfied: numpy<2.3,>=1.23.5 in /opt/homebrew/lib/python3.11/site-packages (from scipy) (2.1.1)\n",
      "\n",
      "\u001b[1m[\u001b[0m\u001b[34;49mnotice\u001b[0m\u001b[1;39;49m]\u001b[0m\u001b[39;49m A new release of pip is available: \u001b[0m\u001b[31;49m24.2\u001b[0m\u001b[39;49m -> \u001b[0m\u001b[32;49m24.3.1\u001b[0m\n",
      "\u001b[1m[\u001b[0m\u001b[34;49mnotice\u001b[0m\u001b[1;39;49m]\u001b[0m\u001b[39;49m To update, run: \u001b[0m\u001b[32;49mpython3.11 -m pip install --upgrade pip\u001b[0m\n"
     ]
    }
   ],
   "source": [
    "!{sys.executable} -m pip install scipy"
   ]
  },
  {
   "cell_type": "code",
   "execution_count": 11,
   "id": "da1d5f94",
   "metadata": {},
   "outputs": [],
   "source": [
    "import numpy as np\n",
    "from scipy.optimize import minimize"
   ]
  },
  {
   "cell_type": "code",
   "execution_count": 12,
   "id": "14fe8b3a",
   "metadata": {},
   "outputs": [],
   "source": [
    "def portfolio_variance(weights):\n",
    "            return np.dot(weights.T, np.dot(cov_matrix, weights))"
   ]
  },
  {
   "cell_type": "code",
   "execution_count": 13,
   "id": "df691a1a",
   "metadata": {},
   "outputs": [],
   "source": [
    "def neg_sharpe_ratio(weights):\n",
    "            portfolio_return = np.dot(weights, expected_returns)\n",
    "            portfolio_volatility = np.sqrt(np.dot(weights.T, np.dot(cov_matrix, weights)))\n",
    "            return -portfolio_return / portfolio_volatility"
   ]
  },
  {
   "cell_type": "code",
   "execution_count": 14,
   "id": "31d1da5c",
   "metadata": {},
   "outputs": [],
   "source": [
    "def markowitz_optimization(expected_returns, cov_matrix, target_return=None):\n",
    "    weights = 0\n",
    "    return weights\n"
   ]
  },
  {
   "cell_type": "code",
   "execution_count": null,
   "id": "32511c62",
   "metadata": {},
   "outputs": [],
   "source": []
  }
 ],
 "metadata": {
  "kernelspec": {
   "display_name": "Python 3.11",
   "language": "python",
   "name": "python3.11"
  },
  "language_info": {
   "codemirror_mode": {
    "name": "ipython",
    "version": 3
   },
   "file_extension": ".py",
   "mimetype": "text/x-python",
   "name": "python",
   "nbconvert_exporter": "python",
   "pygments_lexer": "ipython3",
   "version": "3.11.10"
  }
 },
 "nbformat": 4,
 "nbformat_minor": 5
}
