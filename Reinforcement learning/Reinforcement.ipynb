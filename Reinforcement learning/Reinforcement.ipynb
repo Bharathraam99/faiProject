{
 "cells": [
  {
   "cell_type": "code",
   "execution_count": 2,
   "metadata": {},
   "outputs": [
    {
     "name": "stdout",
     "output_type": "stream",
     "text": [
      "Downloading from https://www.kaggle.com/api/v1/datasets/download/prodzar/stocks-historical-price-data?dataset_version_number=1...\n"
     ]
    },
    {
     "name": "stderr",
     "output_type": "stream",
     "text": [
      "100%|██████████| 191k/191k [00:00<?, ?B/s]"
     ]
    },
    {
     "name": "stdout",
     "output_type": "stream",
     "text": [
      "Extracting files...\n",
      "C:/Users/supre/Documents/FAI/PROJECT C:\\Users\\supre\\.cache\\kagglehub\\datasets\\prodzar\\stocks-historical-price-data\\versions\\1\n"
     ]
    },
    {
     "name": "stderr",
     "output_type": "stream",
     "text": [
      "\n"
     ]
    }
   ],
   "source": [
    "import kagglehub\n",
    "\n",
    "# Download latest version\n",
    "path = kagglehub.dataset_download(\"prodzar/stocks-historical-price-data\")\n",
    "\n",
    "print(\"C:/Users/supre/Documents/FAI/PROJECT\", path)"
   ]
  },
  {
   "cell_type": "code",
   "execution_count": 8,
   "metadata": {},
   "outputs": [
    {
     "name": "stdout",
     "output_type": "stream",
     "text": [
      "Data merged successfully into merged_stocks_data.csv.\n"
     ]
    }
   ],
   "source": [
    "import pandas as pd\n",
    "import os\n",
    "\n",
    "# Path to your directory containing the CSV files\n",
    "download_path = \"C:/Users/supre/Documents/FAI/PROJECT/historical_data\"\n",
    "merged_data = pd.DataFrame()\n",
    "\n",
    "# Loop through each file in the directory\n",
    "for file in os.listdir(download_path):\n",
    "    if file.endswith(\".csv\"):\n",
    "        # Extract company name from the filename (without .csv extension)\n",
    "        company_name = file.replace(\".csv\", \"\")\n",
    "        \n",
    "        # Load CSV into a DataFrame\n",
    "        file_path = os.path.join(download_path, file)\n",
    "        df = pd.read_csv(file_path)\n",
    "        \n",
    "        # Add a new column for the company name\n",
    "        df[\"Company\"] = company_name\n",
    "        \n",
    "        # Append to the merged DataFrame\n",
    "        merged_data = pd.concat([merged_data, df], ignore_index=True)\n",
    "\n",
    "# Save the merged DataFrame to a new CSV file\n",
    "merged_data.to_csv(\"C:/Users/supre/Documents/FAI/PROJECT/merged_stocks_data.csv\", index=False)\n",
    "\n",
    "print(\"Data merged successfully into merged_stocks_data.csv.\")\n"
   ]
  },
  {
   "cell_type": "code",
   "execution_count": 13,
   "metadata": {},
   "outputs": [
    {
     "data": {
      "text/html": [
       "<div>\n",
       "<style scoped>\n",
       "    .dataframe tbody tr th:only-of-type {\n",
       "        vertical-align: middle;\n",
       "    }\n",
       "\n",
       "    .dataframe tbody tr th {\n",
       "        vertical-align: top;\n",
       "    }\n",
       "\n",
       "    .dataframe thead th {\n",
       "        text-align: right;\n",
       "    }\n",
       "</style>\n",
       "<table border=\"1\" class=\"dataframe\">\n",
       "  <thead>\n",
       "    <tr style=\"text-align: right;\">\n",
       "      <th></th>\n",
       "      <th>Date</th>\n",
       "      <th>Open</th>\n",
       "      <th>High</th>\n",
       "      <th>Low</th>\n",
       "      <th>Close</th>\n",
       "      <th>Volume</th>\n",
       "      <th>Dividends</th>\n",
       "      <th>Stock Splits</th>\n",
       "      <th>Company</th>\n",
       "    </tr>\n",
       "  </thead>\n",
       "  <tbody>\n",
       "    <tr>\n",
       "      <th>0</th>\n",
       "      <td>2019-05-31</td>\n",
       "      <td>43.181805</td>\n",
       "      <td>43.613062</td>\n",
       "      <td>42.877969</td>\n",
       "      <td>42.897572</td>\n",
       "      <td>108174400</td>\n",
       "      <td>0.0</td>\n",
       "      <td>0.0</td>\n",
       "      <td>AAPL</td>\n",
       "    </tr>\n",
       "    <tr>\n",
       "      <th>1</th>\n",
       "      <td>2019-06-03</td>\n",
       "      <td>43.027439</td>\n",
       "      <td>43.595909</td>\n",
       "      <td>41.721424</td>\n",
       "      <td>42.463867</td>\n",
       "      <td>161584400</td>\n",
       "      <td>0.0</td>\n",
       "      <td>0.0</td>\n",
       "      <td>AAPL</td>\n",
       "    </tr>\n",
       "    <tr>\n",
       "      <th>2</th>\n",
       "      <td>2019-06-04</td>\n",
       "      <td>42.988224</td>\n",
       "      <td>44.063910</td>\n",
       "      <td>42.762796</td>\n",
       "      <td>44.017353</td>\n",
       "      <td>123872000</td>\n",
       "      <td>0.0</td>\n",
       "      <td>0.0</td>\n",
       "      <td>AAPL</td>\n",
       "    </tr>\n",
       "    <tr>\n",
       "      <th>3</th>\n",
       "      <td>2019-06-05</td>\n",
       "      <td>45.154295</td>\n",
       "      <td>45.328268</td>\n",
       "      <td>44.384898</td>\n",
       "      <td>44.727940</td>\n",
       "      <td>119093600</td>\n",
       "      <td>0.0</td>\n",
       "      <td>0.0</td>\n",
       "      <td>AAPL</td>\n",
       "    </tr>\n",
       "    <tr>\n",
       "      <th>4</th>\n",
       "      <td>2019-06-06</td>\n",
       "      <td>44.860258</td>\n",
       "      <td>45.445882</td>\n",
       "      <td>44.632378</td>\n",
       "      <td>45.384624</td>\n",
       "      <td>90105200</td>\n",
       "      <td>0.0</td>\n",
       "      <td>0.0</td>\n",
       "      <td>AAPL</td>\n",
       "    </tr>\n",
       "  </tbody>\n",
       "</table>\n",
       "</div>"
      ],
      "text/plain": [
       "         Date       Open       High        Low      Close     Volume  \\\n",
       "0  2019-05-31  43.181805  43.613062  42.877969  42.897572  108174400   \n",
       "1  2019-06-03  43.027439  43.595909  41.721424  42.463867  161584400   \n",
       "2  2019-06-04  42.988224  44.063910  42.762796  44.017353  123872000   \n",
       "3  2019-06-05  45.154295  45.328268  44.384898  44.727940  119093600   \n",
       "4  2019-06-06  44.860258  45.445882  44.632378  45.384624   90105200   \n",
       "\n",
       "   Dividends  Stock Splits Company  \n",
       "0        0.0           0.0    AAPL  \n",
       "1        0.0           0.0    AAPL  \n",
       "2        0.0           0.0    AAPL  \n",
       "3        0.0           0.0    AAPL  \n",
       "4        0.0           0.0    AAPL  "
      ]
     },
     "execution_count": 13,
     "metadata": {},
     "output_type": "execute_result"
    }
   ],
   "source": [
    "merged_data.head()"
   ]
  },
  {
   "cell_type": "code",
   "execution_count": 14,
   "metadata": {},
   "outputs": [],
   "source": [
    "import numpy as np\n",
    "import pandas as pd\n",
    "import random\n",
    "from collections import deque\n",
    "\n"
   ]
  },
  {
   "cell_type": "code",
   "execution_count": 16,
   "metadata": {},
   "outputs": [
    {
     "name": "stdout",
     "output_type": "stream",
     "text": [
      "Training complete.\n"
     ]
    }
   ],
   "source": [
    "# Load your merged data\n",
    "data = pd.read_csv(\"C:/Users/supre/Documents/FAI/PROJECT/merged_stocks_data.csv\")\n",
    "\n",
    "# Filter data by company name (e.g., for a specific company)\n",
    "company_data = data[data['Company'] == 'AAPL'].reset_index(drop=True)\n",
    "\n",
    "# Q-learning parameters\n",
    "actions = [\"Buy\", \"Sell\", \"Hold\"]  # Actions the agent can take\n",
    "alpha = 0.1  # Learning rate\n",
    "gamma = 0.9  # Discount factor\n",
    "epsilon = 1.0  # Exploration rate\n",
    "epsilon_decay = 0.995  # Decay rate for epsilon\n",
    "q_table = {}  # Q-table for state-action pairs\n",
    "\n",
    "# Initialize environment parameters\n",
    "initial_balance = 1000  # Initial balance in dollars\n",
    "shares_held = 0  # Initial shares held\n",
    "\n",
    "# Function to get state\n",
    "def get_state(data, t):\n",
    "    return tuple(data.iloc[t][[\"Open\", \"High\", \"Low\", \"Close\", \"Volume\"]])\n",
    "\n",
    "# Reward function: calculates profit/loss for an action\n",
    "def get_reward(action, current_price, shares_held, balance):\n",
    "    if action == \"Sell\" and shares_held > 0:\n",
    "        return shares_held * current_price\n",
    "    elif action == \"Buy\" and balance >= current_price:\n",
    "        return -current_price\n",
    "    else:\n",
    "        return 0  # \"Hold\" or not enough balance\n",
    "\n",
    "# Q-learning algorithm\n",
    "for episode in range(1, 101):  # Training for 100 episodes\n",
    "    balance = initial_balance\n",
    "    shares_held = 0\n",
    "    total_reward = 0\n",
    "    \n",
    "    for t in range(len(company_data) - 1):\n",
    "        state = get_state(company_data, t)\n",
    "        \n",
    "        # Initialize Q-values for unseen states\n",
    "        if state not in q_table:\n",
    "            q_table[state] = [0] * len(actions)\n",
    "        \n",
    "        # Epsilon-greedy action selection\n",
    "        if random.uniform(0, 1) < epsilon:\n",
    "            action_index = random.randint(0, len(actions) - 1)  # Explore\n",
    "        else:\n",
    "            action_index = np.argmax(q_table[state])  # Exploit\n",
    "        \n",
    "        action = actions[action_index]\n",
    "        current_price = company_data.loc[t, \"Close\"]\n",
    "        reward = get_reward(action, current_price, shares_held, balance)\n",
    "        \n",
    "        # Update balance and shares held based on action\n",
    "        if action == \"Buy\" and balance >= current_price:\n",
    "            balance -= current_price\n",
    "            shares_held += 1\n",
    "        elif action == \"Sell\" and shares_held > 0:\n",
    "            balance += shares_held * current_price\n",
    "            shares_held = 0\n",
    "        \n",
    "        total_reward += reward\n",
    "        \n",
    "        # Next state\n",
    "        next_state = get_state(company_data, t + 1)\n",
    "        \n",
    "        # Q-learning update\n",
    "        if next_state not in q_table:\n",
    "            q_table[next_state] = [0] * len(actions)\n",
    "        \n",
    "        # Bellman equation\n",
    "        old_q_value = q_table[state][action_index]\n",
    "        next_max_q = max(q_table[next_state])\n",
    "        q_table[state][action_index] = old_q_value + alpha * (reward + gamma * next_max_q - old_q_value)\n",
    "    \n",
    "    # Decay epsilon\n",
    "    epsilon = max(epsilon * epsilon_decay, 0.01)\n",
    "    # print(f\"Episode {episode}, Total Reward: {total_reward}, Balance: {balance}\")\n",
    "\n",
    "print(\"Training complete.\")\n",
    "\n",
    "# Test phase (using the trained Q-table) can follow a similar approach, with the agent selecting the action with the highest Q-value for each state.\n"
   ]
  },
  {
   "cell_type": "markdown",
   "metadata": {},
   "source": [
    "State and Q-Table: For each day in the test data, the agent retrieves the current state and checks for that state in the Q-table.\n",
    "\n",
    "Exploitation (No Exploration): For each state in the test data, the agent selects the action with the highest Q-value.\n",
    "\n",
    "Action Execution:\n",
    "\"Buy\": Deduct the price of one stock from the balance and increase the shares_held.\n",
    "\"Sell\": Add the value of all held shares to the balance and set shares_held to zero.\n",
    "\n",
    "Portfolio Value Calculation: Tracks the total portfolio value (balance + value of held shares) to see the agent’s progress.\n",
    "\n",
    "End of Testing: Prints the final portfolio value and total profit at the end of the test period"
   ]
  },
  {
   "cell_type": "code",
   "execution_count": null,
   "metadata": {},
   "outputs": [],
   "source": []
  },
  {
   "cell_type": "code",
   "execution_count": null,
   "metadata": {},
   "outputs": [],
   "source": []
  }
 ],
 "metadata": {
  "kernelspec": {
   "display_name": "Python 3",
   "language": "python",
   "name": "python3"
  },
  "language_info": {
   "codemirror_mode": {
    "name": "ipython",
    "version": 3
   },
   "file_extension": ".py",
   "mimetype": "text/x-python",
   "name": "python",
   "nbconvert_exporter": "python",
   "pygments_lexer": "ipython3",
   "version": "3.11.9"
  }
 },
 "nbformat": 4,
 "nbformat_minor": 2
}
